{
 "cells": [
  {
   "cell_type": "markdown",
   "metadata": {},
   "source": [
    "# An Analysis of the WMJI Majic 105.7 Top 500 Songs of 1995"
   ]
  },
  {
   "cell_type": "markdown",
   "metadata": {},
   "source": [
    "**Abstract:** the results of an exploratory analysis of the \"Majic Number\" list of top 500 songs as found on the April 28, 1998 snapshot of the WMJI radio station website."
   ]
  },
  {
   "cell_type": "markdown",
   "metadata": {},
   "source": [
    "## Fetch the Data"
   ]
  },
  {
   "cell_type": "code",
   "execution_count": 31,
   "metadata": {},
   "outputs": [],
   "source": [
    "from bs4 import BeautifulSoup\n",
    "import requests\n",
    "import pickle\n",
    "from datetime import datetime\n",
    "import sys"
   ]
  },
  {
   "cell_type": "code",
   "execution_count": null,
   "metadata": {},
   "outputs": [],
   "source": [
    "# Toggle this to False if you need to fetch the\n",
    "# data for the first time\n",
    "useCache = True"
   ]
  },
  {
   "cell_type": "code",
   "execution_count": 2,
   "metadata": {},
   "outputs": [],
   "source": [
    "# The root web page from which to download the data set\n",
    "url = 'http://web.archive.org/web/19990428111902/http://www.wmji.com/fullsite/top500/top500.html'"
   ]
  },
  {
   "cell_type": "code",
   "execution_count": 3,
   "metadata": {},
   "outputs": [],
   "source": [
    "response = requests.get(url)"
   ]
  },
  {
   "cell_type": "code",
   "execution_count": 13,
   "metadata": {},
   "outputs": [],
   "source": [
    "# Parse the result and enumerate links to follow\n",
    "rootSoup = BeautifulSoup(response.content.decode())"
   ]
  },
  {
   "cell_type": "code",
   "execution_count": 14,
   "metadata": {},
   "outputs": [],
   "source": [
    "# Collect the URLs to the data set\n",
    "links = [ link for link in rootSoup.find_all('a') if \"songsnumberpt\" in link['href'] ]"
   ]
  },
  {
   "cell_type": "code",
   "execution_count": 16,
   "metadata": {},
   "outputs": [
    {
     "data": {
      "text/plain": [
       "<a href=\"songsnumberpt1.html\">1-125</a>"
      ]
     },
     "execution_count": 16,
     "metadata": {},
     "output_type": "execute_result"
    }
   ],
   "source": [
    "aLink = links[0]\n",
    "aLink"
   ]
  },
  {
   "cell_type": "code",
   "execution_count": 24,
   "metadata": {},
   "outputs": [],
   "source": [
    "# Collect and parse the pages at each link\n",
    "listOfSoups = list()\n",
    "\n",
    "rootPage = url.split('/')\n",
    "del rootPage[-1]\n",
    "rootPage = '/'.join(rootPage)+'/'\n",
    "\n",
    "fetchTime = datetime.utcnow()\n",
    "\n",
    "for link in links:\n",
    "    thisLink = rootPage+link['href']\n",
    "    response = requests.get(thisLink)\n",
    "    soup = BeautifulSoup(response.content.decode())\n",
    "    listOfSoups.append(soup)"
   ]
  },
  {
   "cell_type": "code",
   "execution_count": 29,
   "metadata": {},
   "outputs": [],
   "source": [
    "def writeCache(listOfBeautifulSoups, timestamp, cachePrefix='',\n",
    "              cacheSuffix='.pickle' ):\n",
    "    '''writeCache(): ListOfBeautifulSoup datetime.datetime Str1 Str2 -> <File>\n",
    "    Purpose: to write the LisfOfBeautifulSoup to a cache file in pickle\n",
    "             format. datetime.datetime is the timestamp (in UTC) at \n",
    "             which the data were fetched, and is written into the name \n",
    "             of <file>. Optional keywords cachePrefix and cacheSuffix\n",
    "             set the start and end of the cache file's name.\n",
    "    '''\n",
    "    path = cachePrefix + str(datetime.utcnow()).replace(' ','T') + cacheSuffix\n",
    "    with open(path, 'wb') as rawCache:\n",
    "        defaultRecLimit = sys.getrecursionlimit()\n",
    "        sys.setrecursionlimit(10**6)\n",
    "        pickle.dump(listOfBeautifulSoups,rawCache)\n",
    "        sys.setrecursionlimit(defaultRecLimit)"
   ]
  },
  {
   "cell_type": "code",
   "execution_count": 32,
   "metadata": {},
   "outputs": [],
   "source": [
    "writeCache(listOfSoups,fetchTime)"
   ]
  },
  {
   "cell_type": "code",
   "execution_count": 33,
   "metadata": {},
   "outputs": [],
   "source": [
    "def readCache(path):\n",
    "    '''readCache(): [Str] --> ListOfSoups\n",
    "    Purpose: to read in the cached copy of listOfSoups from \n",
    "             its pickled cache file. Optional Str argument \"path\" \n",
    "             is alternative path to the cache file.\n",
    "    '''\n",
    "    with open(path,'rb') as rawCache:\n",
    "        listOfRawReports = pickle.load(rawCache)\n",
    "    \n",
    "    return listOfSoups"
   ]
  },
  {
   "cell_type": "code",
   "execution_count": null,
   "metadata": {},
   "outputs": [],
   "source": []
  }
 ],
 "metadata": {
  "kernelspec": {
   "display_name": "Python 3",
   "language": "python",
   "name": "python3"
  },
  "language_info": {
   "codemirror_mode": {
    "name": "ipython",
    "version": 3
   },
   "file_extension": ".py",
   "mimetype": "text/x-python",
   "name": "python",
   "nbconvert_exporter": "python",
   "pygments_lexer": "ipython3",
   "version": "3.7.3"
  }
 },
 "nbformat": 4,
 "nbformat_minor": 2
}
